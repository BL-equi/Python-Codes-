{
  "nbformat": 4,
  "nbformat_minor": 0,
  "metadata": {
    "colab": {
      "provenance": []
    },
    "kernelspec": {
      "name": "python3",
      "display_name": "Python 3"
    },
    "language_info": {
      "name": "python"
    }
  },
  "cells": [
    {
      "cell_type": "code",
      "execution_count": null,
      "metadata": {
        "colab": {
          "base_uri": "https://localhost:8080/"
        },
        "id": "4BZLplxxhlpX",
        "outputId": "c54b0994-7e78-48c2-8d21-0345696de37b"
      },
      "outputs": [
        {
          "output_type": "stream",
          "name": "stdout",
          "text": [
            "  nome                  soquete de cpu preço       \n",
            "0    Intel Core i7-4770  LGA 1150         R$ 150,00\n",
            "1    Intel Core i5-3330  LGA 1155         R$ 145,00\n",
            "2     AMD Ryzen 5 7600X       AM5       R$ 1.980,00\n",
            "3     AMD Ryzen 5 5600G       AM4         R$ 840,00\n",
            "4      AMD Ryzen 5 3600       AM4       R$ 1.000,00\n",
            "5   Intel Core i9-9900K  LGA 1151       R$ 3.500,00\n",
            "6  Intel Core i5-11600K  LGA 1200       R$ 1.520,00\n",
            "7  Intel Core i5-13600K  LGA 1700       R$ 2.530,00\n",
            "8  Intel Core i9-10920X  LGA 2066       R$ 4.600,00\n",
            "9    Intel Core i5-8500  LGA 1151         R$ 710,00\n"
          ]
        }
      ],
      "source": [
        "import pandas as pd\n",
        "\n",
        "cv = pd.read_csv(\"CPU.xlsx\")\n",
        "print(cv)"
      ]
    },
    {
      "cell_type": "code",
      "source": [
        "cv = cv.sort_values(by='preço')\n",
        "print(df)"
      ],
      "metadata": {
        "colab": {
          "base_uri": "https://localhost:8080/"
        },
        "id": "xH6Au7eXqZ2J",
        "outputId": "ea8840e9-ea8f-44ea-cf8f-dc31963152c6"
      },
      "execution_count": null,
      "outputs": [
        {
          "output_type": "stream",
          "name": "stdout",
          "text": [
            "   data = {                                        \n",
            "0       'faixa etaria': ['13-15', '16-18', '18 +'],\n",
            "1                                        'nomes': [\n",
            "2                       ['alice', 'jorge', 'anna'],\n",
            "3                     ['anne', 'amelie', 'tereza'],\n",
            "4                 ['Thaniel', 'edward', 'raphael'],\n",
            "5                        ['liz', 'pearl', 'Lucca'],\n",
            "6                    ['Marie', 'Marcy', 'marilyn'],\n",
            "7                     ['Isabella', 'Ian', 'Irene'],\n",
            "8                       ['Ethan', 'Emily', 'Evan'],\n",
            "9                      ['Olivia', 'Oscar', 'Opal'],\n",
            "10                        ['Lucas', 'Lily', 'Leo'],\n",
            "11                        ['Ava', 'Adam', 'Amelia']\n",
            "12                                                ]\n",
            "13                                                }\n"
          ]
        }
      ]
    },
    {
      "cell_type": "code",
      "source": [
        "filtro = cv.loc[cv['soquete de cpu'] == 'LGA 1151']\n",
        "print(filtro)\n"
      ],
      "metadata": {
        "colab": {
          "base_uri": "https://localhost:8080/"
        },
        "id": "Pnrdq6XnqYx2",
        "outputId": "8f5c4d7d-7356-480c-f59f-4c574dd6c1b3"
      },
      "execution_count": null,
      "outputs": [
        {
          "output_type": "stream",
          "name": "stdout",
          "text": [
            "  nome                 soquete de cpu preço       \n",
            "5  Intel Core i9-9900K  LGA 1151       R$ 3.500,00\n",
            "9   Intel Core i5-8500  LGA 1151         R$ 710,00\n"
          ]
        }
      ]
    },
    {
      "cell_type": "code",
      "source": [
        "\n",
        "# Certificar de que a coluna 'preço' é uma string\n",
        "cv['preço'] = cv['preço'].astype(str)\n",
        "\n",
        "# Remover caracteres não numéricos e converter para float\n",
        "cv['preço'] = cv['preço'].str.replace('[^\\d.]', '', regex=True).astype(float)\n",
        "\n",
        "# Calcular a média de preços por soquete de CPU\n",
        "media_por_soquete = cv.groupby('soquete de cpu')['preço'].mean()\n",
        "\n",
        "print(media_por_soquete)\n"
      ],
      "metadata": {
        "colab": {
          "base_uri": "https://localhost:8080/"
        },
        "id": "x-YBWVMorQOW",
        "outputId": "fc1c1d80-bc2d-4e4b-815b-f28dc8ea7d87"
      },
      "execution_count": null,
      "outputs": [
        {
          "output_type": "stream",
          "name": "stdout",
          "text": [
            "soquete de cpu\n",
            "AM4         42000.50\n",
            "AM5             1.98\n",
            "LGA 1150    15000.00\n",
            "LGA 1151    35501.75\n",
            "LGA 1155    14500.00\n",
            "LGA 1200        1.52\n",
            "LGA 1700        2.53\n",
            "LGA 2066        4.60\n",
            "Name: preço, dtype: float64\n"
          ]
        }
      ]
    }
  ]
}