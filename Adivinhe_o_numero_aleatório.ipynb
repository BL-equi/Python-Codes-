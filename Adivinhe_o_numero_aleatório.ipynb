{
  "nbformat": 4,
  "nbformat_minor": 0,
  "metadata": {
    "colab": {
      "provenance": []
    },
    "kernelspec": {
      "name": "python3",
      "display_name": "Python 3"
    },
    "language_info": {
      "name": "python"
    }
  },
  "cells": [
    {
      "cell_type": "code",
      "execution_count": null,
      "metadata": {
        "colab": {
          "base_uri": "https://localhost:8080/"
        },
        "id": "iH3-60ge-8gl",
        "outputId": "091425e2-e417-4ffb-ade0-e066de428193"
      },
      "outputs": [
        {
          "output_type": "stream",
          "name": "stdout",
          "text": [
            "Numero inicial: 0\n",
            "numero final: 3\n",
            "Adivinhe!!!\n",
            "2\n",
            "BOAAAA ERA MESMO 2 !!!!!\n"
          ]
        }
      ],
      "source": [
        "# o import random serve pra chamar a biblioteca random\n",
        "import random\n",
        "# então eu crio uma lista que vai adicionar um numero nela em todo o intervalo de numeros que o usuario pedir\n",
        "# uso o inicio pra ser o numero inicial e ser um contador e crio um inicio de verdade escondido pra servir mais pra frente\n",
        "numero = []\n",
        "inicio = int(input(\"Numero inicial: \"))\n",
        "fim = int(input(\"numero final: \"))\n",
        "inicioreal = inicio\n",
        "\n",
        "for i in range(inicio,fim):\n",
        "  numero.append(inicio)\n",
        "  inicio= inicio + 1\n",
        "#e uso o random.choice, que é uma função do random que escolhe um item de uma lista, fazendo ele escolher um numero da lista que o usuario criou e atribuindo ele á variavel\n",
        "adivinhe = (random.choice(numero))\n",
        "print(\"Adivinhe!!!\")\n",
        "resposta = int(input())\n",
        "#depois disso é só configurar a resposta do programa (usando o inicio de verdade que permanece inalterado) pra caso o usuario acerte, erre, fale um numero menor ou maior que o do intervalo\n",
        "if resposta == adivinhe:\n",
        "  print(\"BOAAAA ERA MESMO\",resposta,\"!!!!!\")\n",
        "elif resposta < inicioreal:\n",
        "  print(\"Tá muito baixo, vai mais alto!\")\n",
        "elif resposta > fim:\n",
        "  print(\"calma ai amigo, devagar, vamo de novo com um mais baixo\")\n",
        "elif not resposta > fim and not resposta < inicioreal and resposta != adivinhe:\n",
        "  print(\"bommm, tenta de novo\")\n",
        "\n"
      ]
    },
    {
      "cell_type": "code",
      "source": [],
      "metadata": {
        "id": "ZeUTpf99_JSw"
      },
      "execution_count": null,
      "outputs": []
    }
  ]
}