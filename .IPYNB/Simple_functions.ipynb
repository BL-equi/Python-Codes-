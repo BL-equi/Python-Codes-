{
  "cells": [
    {
      "cell_type": "code",
      "execution_count": null,
      "metadata": {
        "colab": {
          "base_uri": "https://localhost:8080/"
        },
        "id": "jGtN1aZky-Pb",
        "outputId": "cfe6b461-3f4d-401e-87c0-1917bce83cb2"
      },
      "outputs": [
        {
          "name": "stdout",
          "output_type": "stream",
          "text": [
            "Result: erro\n"
          ]
        }
      ],
      "source": [
        "def divide(x, y):\n",
        "  if y != 0:\n",
        "    result = x / y\n",
        "  else:\n",
        "    result = (\"erro\")\n",
        "  return result\n",
        "numerator = 10\n",
        "denominator = 0\n",
        "result = divide(numerator , denominator )\n",
        "print(\"Result:\", result)"
      ]
    },
    {
      "cell_type": "code",
      "execution_count": null,
      "metadata": {
        "colab": {
          "base_uri": "https://localhost:8080/"
        },
        "id": "L2fDSXeczl8a",
        "outputId": "f960f5d8-65f9-4271-bb3c-7868ad4136c1"
      },
      "outputs": [
        {
          "name": "stdout",
          "output_type": "stream",
          "text": [
            "Area: 50\n"
          ]
        }
      ],
      "source": [
        "def calc_area (length , width ):\n",
        "  area = length * width\n",
        "  return area\n",
        "length = 10\n",
        "width = 5\n",
        "area = calc_area (length , width)\n",
        "print(\"Area:\", area)\n"
      ]
    },
    {
      "cell_type": "code",
      "execution_count": null,
      "metadata": {
        "colab": {
          "background_save": true,
          "base_uri": "https://localhost:8080/",
          "height": 140
        },
        "id": "hL3Rv9550LcA",
        "outputId": "9bb9eaa4-7856-41eb-d143-c9d7705eee6a"
      },
      "outputs": [
        {
          "name": "stdout",
          "output_type": "stream",
          "text": [
            "Media: 84.66666666666667\n"
          ]
        }
      ],
      "source": [
        "\n",
        "def calculo_media (num ):\n",
        "\tno = True\n",
        "\tfor num in num:\n",
        "\t\tif num == str:\n",
        "\t\t\tno = False\n",
        "\n",
        "\tif no == True:\n",
        "\t\ttotal = sum(num)\n",
        "\t\tmedia = total/ len(num)\n",
        "\telse: media = (\"erro\")\n",
        "\treturn media\n",
        "data = [85, 90, 78, \"92\", 75, 88]\n",
        "med = calculo_media (data)\n",
        "print(\"Media:\", med)"
      ]
    },
    {
      "cell_type": "code",
      "execution_count": null,
      "metadata": {
        "id": "V5ODvqNV5Y3D"
      },
      "outputs": [],
      "source": [
        "def Soma(a,b):\n",
        "  return a+b\n",
        "  a = int(input(\"Digite o valor de a\"))\n",
        "  b = int(input(\"Digite o valor de b\"))\n",
        "print(Soma(a,b))"
      ]
    },
    {
      "cell_type": "code",
      "execution_count": null,
      "metadata": {
        "id": "3F0RpVUr5-Yo"
      },
      "outputs": [],
      "source": [
        "letra = input(\"Digite uma letra\")\n",
        "if letra in ['a','e','i','o','u']:\n",
        "  print(\"vogal\")\n",
        "else:\n",
        "  print(\"consoante\")"
      ]
    }
  ],
  "metadata": {
    "colab": {
      "provenance": []
    },
    "kernelspec": {
      "display_name": "Python 3",
      "name": "python3"
    },
    "language_info": {
      "name": "python"
    }
  },
  "nbformat": 4,
  "nbformat_minor": 0
}