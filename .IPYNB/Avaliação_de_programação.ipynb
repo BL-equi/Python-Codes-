{
  "nbformat": 4,
  "nbformat_minor": 0,
  "metadata": {
    "colab": {
      "provenance": []
    },
    "kernelspec": {
      "name": "python3",
      "display_name": "Python 3"
    },
    "language_info": {
      "name": "python"
    }
  },
  "cells": [
    {
      "cell_type": "code",
      "execution_count": null,
      "metadata": {
        "colab": {
          "base_uri": "https://localhost:8080/"
        },
        "id": "W1jbtYr7AkZT",
        "outputId": "7f40cf29-64a0-4cbc-99cc-85b4ffdc5ddb"
      },
      "outputs": [
        {
          "output_type": "stream",
          "name": "stdout",
          "text": [
            "Array unidimensional nula: \n",
            " [0. 0. 0. 0. 0. 0. 0. 0. 0. 0.]\n",
            "Array bidimensional nula: \n",
            " [[0. 0. 0. 0. 0. 0. 0. 0. 0. 0.]\n",
            " [0. 0. 0. 0. 0. 0. 0. 0. 0. 0.]]\n",
            "Array tridimensional nula:\n",
            " [[0. 0. 0. 0. 0. 0. 0. 0. 0. 0.]\n",
            " [0. 0. 0. 0. 0. 0. 0. 0. 0. 0.]\n",
            " [0. 0. 0. 0. 0. 0. 0. 0. 0. 0.]]\n",
            "Array unidimensional de un: \n",
            " [1. 1. 1. 1. 1. 1. 1. 1. 1. 1.]\n",
            "Array bidimensional de uns: \n",
            " [[1. 1. 1. 1. 1. 1. 1. 1. 1. 1.]\n",
            " [1. 1. 1. 1. 1. 1. 1. 1. 1. 1.]]\n",
            "Array tridimensional de uns: \n",
            " [[1. 1. 1. 1. 1. 1. 1. 1. 1. 1.]\n",
            " [1. 1. 1. 1. 1. 1. 1. 1. 1. 1.]\n",
            " [1. 1. 1. 1. 1. 1. 1. 1. 1. 1.]]\n"
          ]
        }
      ],
      "source": [
        "import numpy as np\n",
        "\n",
        "unszero = np.zeros(10)\n",
        "print(\"Array unidimensional nula: \\n\",unszero)\n",
        "unszero = np.zeros((2, 10))\n",
        "print(\"Array bidimensional nula: \\n\", unszero)\n",
        "unszero = np.zeros((3,10))\n",
        "print(\"Array tridimensional nula:\\n\", unszero)\n",
        "unsum = np.ones(10)\n",
        "print(\"Array unidimensional de un: \\n\",unsum)\n",
        "unsum = np.ones((2,10))\n",
        "print(\"Array bidimensional de uns: \\n\",unsum)\n",
        "unsum = np.ones((3, 10))\n",
        "print(\"Array tridimensional de uns: \\n\",unsum)"
      ]
    },
    {
      "cell_type": "code",
      "source": [
        "unszero = np.zeros(10)\n",
        "unsum = np.ones(6)\n",
        "print(\"lista nula: \", unszero)\n",
        "print(\"lista unitaria: \", unsum)"
      ],
      "metadata": {
        "id": "OJo45Ckn-wby",
        "colab": {
          "base_uri": "https://localhost:8080/"
        },
        "outputId": "a1d357ca-60e2-43e7-bbca-3fde89dfe462"
      },
      "execution_count": null,
      "outputs": [
        {
          "output_type": "stream",
          "name": "stdout",
          "text": [
            "lista nula:  [0. 0. 0. 0. 0. 0. 0. 0. 0. 0.]\n",
            "lista unitaria:  [1. 1. 1. 1. 1. 1.]\n"
          ]
        }
      ]
    },
    {
      "cell_type": "code",
      "source": [
        "array1 = [i for i in range(10)]\n",
        "array2 = [i + 4 for i in range(10)]\n",
        "\n",
        "print(\"Array 1: \", array1)\n",
        "print(\"Array 2: \", array2)\n",
        "\n",
        "array2 = [i**2 for i in array2]\n",
        "\n",
        "print(\"Array 2 ao quadrado: \", array2)\n",
        "\n",
        "comp = [j > i for i, j in zip(array1, array2)]\n",
        "\n",
        "print(\"Comparando Resultados: \", comp)"
      ],
      "metadata": {
        "id": "xQUg-zggAxhr"
      },
      "execution_count": null,
      "outputs": []
    }
  ]
}